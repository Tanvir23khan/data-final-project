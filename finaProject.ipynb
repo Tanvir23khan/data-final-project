{
 "cells": [
  {
   "cell_type": "code",
   "execution_count": 1,
   "metadata": {},
   "outputs": [],
   "source": [
    "import pandas as pd\n",
    "import datetime\n",
    "import pandas_datareader.data as web\n",
    "from pandas import Series, DataFrame\n",
    "import matplotlib.pyplot as plt\n",
    "from matplotlib import style\n",
    "from matplotlib.pylab import rcParams\n",
    "import numpy as np\n",
    "%matplotlib inline\n",
    "import matplotlib.style\n",
    "import matplotlib as mpl\n",
    "mpl.style.use('ggplot')\n",
    "from matplotlib.pylab import rcParams\n",
    "rcParams['figure.figsize'] = 20, 10\n",
    "from sklearn.preprocessing import MinMaxScaler"
   ]
  },
  {
   "cell_type": "code",
   "execution_count": 2,
   "metadata": {},
   "outputs": [],
   "source": [
    "start = datetime.datetime(2010, 8, 1)\n",
    "end = datetime.datetime(2020, 7, 31)\n",
    "tickers =  ['BTC-USD', 'CL=F', 'EURUSD=X', 'GC=F', 'TSLA']"
   ]
  },
  {
   "cell_type": "code",
   "execution_count": 3,
   "metadata": {},
   "outputs": [
    {
     "data": {
      "text/html": [
       "<div>\n",
       "<style scoped>\n",
       "    .dataframe tbody tr th:only-of-type {\n",
       "        vertical-align: middle;\n",
       "    }\n",
       "\n",
       "    .dataframe tbody tr th {\n",
       "        vertical-align: top;\n",
       "    }\n",
       "\n",
       "    .dataframe thead th {\n",
       "        text-align: right;\n",
       "    }\n",
       "</style>\n",
       "<table border=\"1\" class=\"dataframe\">\n",
       "  <thead>\n",
       "    <tr style=\"text-align: right;\">\n",
       "      <th></th>\n",
       "      <th>High</th>\n",
       "      <th>Low</th>\n",
       "      <th>Open</th>\n",
       "      <th>Close</th>\n",
       "      <th>Volume</th>\n",
       "      <th>Adj Close</th>\n",
       "    </tr>\n",
       "    <tr>\n",
       "      <th>Date</th>\n",
       "      <th></th>\n",
       "      <th></th>\n",
       "      <th></th>\n",
       "      <th></th>\n",
       "      <th></th>\n",
       "      <th></th>\n",
       "    </tr>\n",
       "  </thead>\n",
       "  <tbody>\n",
       "    <tr>\n",
       "      <th>2014-09-16</th>\n",
       "      <td>468.174011</td>\n",
       "      <td>452.421997</td>\n",
       "      <td>465.864014</td>\n",
       "      <td>457.334015</td>\n",
       "      <td>21056800</td>\n",
       "      <td>457.334015</td>\n",
       "    </tr>\n",
       "    <tr>\n",
       "      <th>2014-09-17</th>\n",
       "      <td>456.859985</td>\n",
       "      <td>413.104004</td>\n",
       "      <td>456.859985</td>\n",
       "      <td>424.440002</td>\n",
       "      <td>34483200</td>\n",
       "      <td>424.440002</td>\n",
       "    </tr>\n",
       "    <tr>\n",
       "      <th>2014-09-18</th>\n",
       "      <td>427.834991</td>\n",
       "      <td>384.532013</td>\n",
       "      <td>424.102997</td>\n",
       "      <td>394.795990</td>\n",
       "      <td>37919700</td>\n",
       "      <td>394.795990</td>\n",
       "    </tr>\n",
       "    <tr>\n",
       "      <th>2014-09-19</th>\n",
       "      <td>423.295990</td>\n",
       "      <td>389.882996</td>\n",
       "      <td>394.673004</td>\n",
       "      <td>408.903992</td>\n",
       "      <td>36863600</td>\n",
       "      <td>408.903992</td>\n",
       "    </tr>\n",
       "    <tr>\n",
       "      <th>2014-09-20</th>\n",
       "      <td>412.425995</td>\n",
       "      <td>393.181000</td>\n",
       "      <td>408.084991</td>\n",
       "      <td>398.821014</td>\n",
       "      <td>26580100</td>\n",
       "      <td>398.821014</td>\n",
       "    </tr>\n",
       "  </tbody>\n",
       "</table>\n",
       "</div>"
      ],
      "text/plain": [
       "                  High         Low        Open       Close    Volume  \\\n",
       "Date                                                                   \n",
       "2014-09-16  468.174011  452.421997  465.864014  457.334015  21056800   \n",
       "2014-09-17  456.859985  413.104004  456.859985  424.440002  34483200   \n",
       "2014-09-18  427.834991  384.532013  424.102997  394.795990  37919700   \n",
       "2014-09-19  423.295990  389.882996  394.673004  408.903992  36863600   \n",
       "2014-09-20  412.425995  393.181000  408.084991  398.821014  26580100   \n",
       "\n",
       "             Adj Close  \n",
       "Date                    \n",
       "2014-09-16  457.334015  \n",
       "2014-09-17  424.440002  \n",
       "2014-09-18  394.795990  \n",
       "2014-09-19  408.903992  \n",
       "2014-09-20  398.821014  "
      ]
     },
     "execution_count": 3,
     "metadata": {},
     "output_type": "execute_result"
    }
   ],
   "source": [
    "df = web.DataReader(\"BTC-USD\", 'yahoo', start, end)\n",
    "df.head()"
   ]
  },
  {
   "cell_type": "code",
   "execution_count": 4,
   "metadata": {},
   "outputs": [
    {
     "data": {
      "text/html": [
       "<div>\n",
       "<style scoped>\n",
       "    .dataframe tbody tr th:only-of-type {\n",
       "        vertical-align: middle;\n",
       "    }\n",
       "\n",
       "    .dataframe tbody tr th {\n",
       "        vertical-align: top;\n",
       "    }\n",
       "\n",
       "    .dataframe thead th {\n",
       "        text-align: right;\n",
       "    }\n",
       "</style>\n",
       "<table border=\"1\" class=\"dataframe\">\n",
       "  <thead>\n",
       "    <tr style=\"text-align: right;\">\n",
       "      <th></th>\n",
       "      <th>Date</th>\n",
       "      <th>High</th>\n",
       "      <th>Low</th>\n",
       "      <th>Open</th>\n",
       "      <th>Close</th>\n",
       "      <th>Volume</th>\n",
       "      <th>Adj Close</th>\n",
       "    </tr>\n",
       "  </thead>\n",
       "  <tbody>\n",
       "    <tr>\n",
       "      <th>0</th>\n",
       "      <td>2014-09-16</td>\n",
       "      <td>468.174011</td>\n",
       "      <td>452.421997</td>\n",
       "      <td>465.864014</td>\n",
       "      <td>457.334015</td>\n",
       "      <td>21056800</td>\n",
       "      <td>457.334015</td>\n",
       "    </tr>\n",
       "    <tr>\n",
       "      <th>1</th>\n",
       "      <td>2014-09-17</td>\n",
       "      <td>456.859985</td>\n",
       "      <td>413.104004</td>\n",
       "      <td>456.859985</td>\n",
       "      <td>424.440002</td>\n",
       "      <td>34483200</td>\n",
       "      <td>424.440002</td>\n",
       "    </tr>\n",
       "    <tr>\n",
       "      <th>2</th>\n",
       "      <td>2014-09-18</td>\n",
       "      <td>427.834991</td>\n",
       "      <td>384.532013</td>\n",
       "      <td>424.102997</td>\n",
       "      <td>394.795990</td>\n",
       "      <td>37919700</td>\n",
       "      <td>394.795990</td>\n",
       "    </tr>\n",
       "    <tr>\n",
       "      <th>3</th>\n",
       "      <td>2014-09-19</td>\n",
       "      <td>423.295990</td>\n",
       "      <td>389.882996</td>\n",
       "      <td>394.673004</td>\n",
       "      <td>408.903992</td>\n",
       "      <td>36863600</td>\n",
       "      <td>408.903992</td>\n",
       "    </tr>\n",
       "    <tr>\n",
       "      <th>4</th>\n",
       "      <td>2014-09-20</td>\n",
       "      <td>412.425995</td>\n",
       "      <td>393.181000</td>\n",
       "      <td>408.084991</td>\n",
       "      <td>398.821014</td>\n",
       "      <td>26580100</td>\n",
       "      <td>398.821014</td>\n",
       "    </tr>\n",
       "  </tbody>\n",
       "</table>\n",
       "</div>"
      ],
      "text/plain": [
       "        Date        High         Low        Open       Close    Volume  \\\n",
       "0 2014-09-16  468.174011  452.421997  465.864014  457.334015  21056800   \n",
       "1 2014-09-17  456.859985  413.104004  456.859985  424.440002  34483200   \n",
       "2 2014-09-18  427.834991  384.532013  424.102997  394.795990  37919700   \n",
       "3 2014-09-19  423.295990  389.882996  394.673004  408.903992  36863600   \n",
       "4 2014-09-20  412.425995  393.181000  408.084991  398.821014  26580100   \n",
       "\n",
       "    Adj Close  \n",
       "0  457.334015  \n",
       "1  424.440002  \n",
       "2  394.795990  \n",
       "3  408.903992  \n",
       "4  398.821014  "
      ]
     },
     "execution_count": 4,
     "metadata": {},
     "output_type": "execute_result"
    }
   ],
   "source": [
    "df.reset_index(inplace=True)\n",
    "df.head()"
   ]
  },
  {
   "cell_type": "markdown",
   "metadata": {},
   "source": [
    "# Moving Average"
   ]
  },
  {
   "cell_type": "code",
   "execution_count": 5,
   "metadata": {},
   "outputs": [],
   "source": [
    "scaler = MinMaxScaler(feature_range=(0, 1))"
   ]
  },
  {
   "cell_type": "code",
   "execution_count": 6,
   "metadata": {},
   "outputs": [],
   "source": [
    "df['Date'] = pd.to_datetime(df.Date, format='%Y-%m-%d')"
   ]
  },
  {
   "cell_type": "code",
   "execution_count": 7,
   "metadata": {},
   "outputs": [
    {
     "data": {
      "text/plain": [
       "[<matplotlib.lines.Line2D at 0x211d8543470>]"
      ]
     },
     "execution_count": 7,
     "metadata": {},
     "output_type": "execute_result"
    },
    {
     "data": {
      "image/png": "[encoded data removed]",
      "text/plain": [
       "<Figure size 1152x576 with 1 Axes>"
      ]
     },
     "metadata": {},
     "output_type": "display_data"
    }
   ],
   "source": [
    "plt.figure(figsize=(16,8))\n",
    "plt.plot(df['Date'], df['Adj Close'], label='Close Price history')"
   ]
  },
  {
   "cell_type": "code",
   "execution_count": 8,
   "metadata": {},
   "outputs": [],
   "source": [
    "df.index = df['Date']"
   ]
  },
  {
   "cell_type": "code",
   "execution_count": 9,
   "metadata": {},
   "outputs": [],
   "source": [
    "# Creating dataframe with date and the target variable\n",
    "\n",
    "data = df.sort_index(ascending=True, axis=0)\n",
    "new_data = pd.DataFrame(index=range(0, len(df)), columns=['Date', 'Adj Close'])\n",
    "\n",
    "for i in range(0, len(data)):\n",
    "  new_data['Date'][i] = data['Date'][i]\n",
    "  new_data['Adj Close'][i] = data['Adj Close'][i]"
   ]
  },
  {
   "cell_type": "code",
   "execution_count": 10,
   "metadata": {},
   "outputs": [
    {
     "data": {
      "text/plain": [
       "(2146, 2)"
      ]
     },
     "execution_count": 10,
     "metadata": {},
     "output_type": "execute_result"
    }
   ],
   "source": [
    "new_data.shape"
   ]
  },
  {
   "cell_type": "code",
   "execution_count": 11,
   "metadata": {},
   "outputs": [],
   "source": [
    "# from sklearn.model_selection import train_test_split\n",
    "\n",
    "# X_train, X_test, y_train, y_test = train_test_split(\n",
    "#     X, y, random_state=1)"
   ]
  },
  {
   "cell_type": "code",
   "execution_count": 12,
   "metadata": {},
   "outputs": [],
   "source": [
    "# Train-test split\n",
    "train = new_data[:1600]\n",
    "test = new_data[1600:]"
   ]
  },
  {
   "cell_type": "code",
   "execution_count": 13,
   "metadata": {},
   "outputs": [
    {
     "data": {
      "text/plain": [
       "((2146, 2), (1600, 2), (546, 2))"
      ]
     },
     "execution_count": 13,
     "metadata": {},
     "output_type": "execute_result"
    }
   ],
   "source": [
    "new_data.shape, train.shape, test.shape"
   ]
  },
  {
   "cell_type": "code",
   "execution_count": 14,
   "metadata": {},
   "outputs": [],
   "source": [
    "num = test.shape[0]"
   ]
  },
  {
   "cell_type": "code",
   "execution_count": 15,
   "metadata": {},
   "outputs": [
    {
     "data": {
      "text/plain": [
       "(Timestamp('2014-09-16 00:00:00'),\n",
       " Timestamp('2019-02-02 00:00:00'),\n",
       " Timestamp('2019-02-03 00:00:00'),\n",
       " Timestamp('2020-07-31 00:00:00'))"
      ]
     },
     "execution_count": 15,
     "metadata": {},
     "output_type": "execute_result"
    }
   ],
   "source": [
    "train['Date'].min(), train['Date'].max(), test['Date'].min(), test['Date'].max()"
   ]
  },
  {
   "cell_type": "code",
   "execution_count": 16,
   "metadata": {},
   "outputs": [],
   "source": [
    "# Making predictions\n",
    "\n",
    "preds = []\n",
    "for i in range(0, num):\n",
    "  a = train['Adj Close'][len(train)-646+i:].sum() + sum(preds)\n",
    "  b = a/num\n",
    "  preds.append(b)"
   ]
  },
  {
   "cell_type": "code",
   "execution_count": 17,
   "metadata": {},
   "outputs": [
    {
     "data": {
      "text/plain": [
       "546"
      ]
     },
     "execution_count": 17,
     "metadata": {},
     "output_type": "execute_result"
    }
   ],
   "source": [
    "len(preds)"
   ]
  },
  {
   "cell_type": "code",
   "execution_count": 18,
   "metadata": {},
   "outputs": [
    {
     "name": "stdout",
     "output_type": "stream",
     "text": [
      "2037.5556998546047\n"
     ]
    }
   ],
   "source": [
    "# Measure accuracy with rmse (Root Mean Squared Error)\n",
    "rms=np.sqrt(np.mean(np.power((np.array(test['Adj Close'])-preds),2)))\n",
    "print(rms)"
   ]
  },
  {
   "cell_type": "code",
   "execution_count": 19,
   "metadata": {},
   "outputs": [
    {
     "name": "stderr",
     "output_type": "stream",
     "text": [
      "D:\\ProgramData\\Anaconda3\\envs\\PythonAdv\\lib\\site-packages\\ipykernel_launcher.py:2: SettingWithCopyWarning: \n",
      "A value is trying to be set on a copy of a slice from a DataFrame.\n",
      "Try using .loc[row_indexer,col_indexer] = value instead\n",
      "\n",
      "See the caveats in the documentation: https://pandas.pydata.org/pandas-docs/stable/user_guide/indexing.html#returning-a-view-versus-a-copy\n",
      "  \n"
     ]
    },
    {
     "data": {
      "text/plain": [
       "[<matplotlib.lines.Line2D at 0x211d82ccd68>,\n",
       " <matplotlib.lines.Line2D at 0x211d82cceb8>]"
      ]
     },
     "execution_count": 19,
     "metadata": {},
     "output_type": "execute_result"
    },
    {
     "data": {
      "image/png": "[encoded data removed]",
      "text/plain": [
       "<Figure size 1440x720 with 1 Axes>"
      ]
     },
     "metadata": {},
     "output_type": "display_data"
    }
   ],
   "source": [
    "#test['Predictions'] = 0\n",
    "test['Predictions'] = preds\n",
    "plt.plot(train['Adj Close'])\n",
    "plt.plot(test[['Adj Close', 'Predictions']])"
   ]
  },
  {
   "cell_type": "markdown",
   "metadata": {},
   "source": [
    "# Simple Linear Regression"
   ]
  },
  {
   "cell_type": "code",
   "execution_count": 20,
   "metadata": {},
   "outputs": [
    {
     "data": {
      "text/html": [
       "<div>\n",
       "<style scoped>\n",
       "    .dataframe tbody tr th:only-of-type {\n",
       "        vertical-align: middle;\n",
       "    }\n",
       "\n",
       "    .dataframe tbody tr th {\n",
       "        vertical-align: top;\n",
       "    }\n",
       "\n",
       "    .dataframe thead th {\n",
       "        text-align: right;\n",
       "    }\n",
       "</style>\n",
       "<table border=\"1\" class=\"dataframe\">\n",
       "  <thead>\n",
       "    <tr style=\"text-align: right;\">\n",
       "      <th></th>\n",
       "      <th>Date</th>\n",
       "      <th>Adj Close</th>\n",
       "    </tr>\n",
       "  </thead>\n",
       "  <tbody>\n",
       "    <tr>\n",
       "      <th>0</th>\n",
       "      <td>2014-09-16 00:00:00</td>\n",
       "      <td>457.334</td>\n",
       "    </tr>\n",
       "    <tr>\n",
       "      <th>1</th>\n",
       "      <td>2014-09-17 00:00:00</td>\n",
       "      <td>424.44</td>\n",
       "    </tr>\n",
       "    <tr>\n",
       "      <th>2</th>\n",
       "      <td>2014-09-18 00:00:00</td>\n",
       "      <td>394.796</td>\n",
       "    </tr>\n",
       "    <tr>\n",
       "      <th>3</th>\n",
       "      <td>2014-09-19 00:00:00</td>\n",
       "      <td>408.904</td>\n",
       "    </tr>\n",
       "    <tr>\n",
       "      <th>4</th>\n",
       "      <td>2014-09-20 00:00:00</td>\n",
       "      <td>398.821</td>\n",
       "    </tr>\n",
       "  </tbody>\n",
       "</table>\n",
       "</div>"
      ],
      "text/plain": [
       "                  Date Adj Close\n",
       "0  2014-09-16 00:00:00   457.334\n",
       "1  2014-09-17 00:00:00    424.44\n",
       "2  2014-09-18 00:00:00   394.796\n",
       "3  2014-09-19 00:00:00   408.904\n",
       "4  2014-09-20 00:00:00   398.821"
      ]
     },
     "execution_count": 20,
     "metadata": {},
     "output_type": "execute_result"
    }
   ],
   "source": [
    "new_data.head()"
   ]
  },
  {
   "cell_type": "code",
   "execution_count": 21,
   "metadata": {},
   "outputs": [
    {
     "name": "stderr",
     "output_type": "stream",
     "text": [
      "D:\\ProgramData\\Anaconda3\\envs\\PythonAdv\\lib\\site-packages\\fastai\\tabular\\transform.py:63: FutureWarning: Series.dt.weekofyear and Series.dt.week have been deprecated.  Please use Series.dt.isocalendar().week instead.\n",
      "  for n in attr: df[prefix + n] = getattr(field.dt, n.lower())\n"
     ]
    }
   ],
   "source": [
    "# conda install -c pytorch -c fastai fastai\n",
    "# use fastai functions to generate a lot of date related columns\n",
    "from fastai.tabular import *\n",
    "add_datepart(new_data, 'Date')\n",
    "new_data.drop('Elapsed', axis=1, inplace=True)"
   ]
  },
  {
   "cell_type": "code",
   "execution_count": 27,
   "metadata": {},
   "outputs": [
    {
     "data": {
      "text/html": [
       "<div>\n",
       "<style scoped>\n",
       "    .dataframe tbody tr th:only-of-type {\n",
       "        vertical-align: middle;\n",
       "    }\n",
       "\n",
       "    .dataframe tbody tr th {\n",
       "        vertical-align: top;\n",
       "    }\n",
       "\n",
       "    .dataframe thead th {\n",
       "        text-align: right;\n",
       "    }\n",
       "</style>\n",
       "<table border=\"1\" class=\"dataframe\">\n",
       "  <thead>\n",
       "    <tr style=\"text-align: right;\">\n",
       "      <th></th>\n",
       "      <th>Adj Close</th>\n",
       "      <th>Year</th>\n",
       "      <th>Month</th>\n",
       "      <th>Week</th>\n",
       "      <th>Day</th>\n",
       "      <th>Dayofweek</th>\n",
       "      <th>Dayofyear</th>\n",
       "      <th>Is_month_end</th>\n",
       "      <th>Is_month_start</th>\n",
       "      <th>Is_quarter_end</th>\n",
       "      <th>Is_quarter_start</th>\n",
       "      <th>Is_year_end</th>\n",
       "      <th>Is_year_start</th>\n",
       "    </tr>\n",
       "  </thead>\n",
       "  <tbody>\n",
       "    <tr>\n",
       "      <th>0</th>\n",
       "      <td>457.334</td>\n",
       "      <td>2014</td>\n",
       "      <td>9</td>\n",
       "      <td>38</td>\n",
       "      <td>16</td>\n",
       "      <td>1</td>\n",
       "      <td>259</td>\n",
       "      <td>False</td>\n",
       "      <td>False</td>\n",
       "      <td>False</td>\n",
       "      <td>False</td>\n",
       "      <td>False</td>\n",
       "      <td>False</td>\n",
       "    </tr>\n",
       "    <tr>\n",
       "      <th>1</th>\n",
       "      <td>424.44</td>\n",
       "      <td>2014</td>\n",
       "      <td>9</td>\n",
       "      <td>38</td>\n",
       "      <td>17</td>\n",
       "      <td>2</td>\n",
       "      <td>260</td>\n",
       "      <td>False</td>\n",
       "      <td>False</td>\n",
       "      <td>False</td>\n",
       "      <td>False</td>\n",
       "      <td>False</td>\n",
       "      <td>False</td>\n",
       "    </tr>\n",
       "    <tr>\n",
       "      <th>2</th>\n",
       "      <td>394.796</td>\n",
       "      <td>2014</td>\n",
       "      <td>9</td>\n",
       "      <td>38</td>\n",
       "      <td>18</td>\n",
       "      <td>3</td>\n",
       "      <td>261</td>\n",
       "      <td>False</td>\n",
       "      <td>False</td>\n",
       "      <td>False</td>\n",
       "      <td>False</td>\n",
       "      <td>False</td>\n",
       "      <td>False</td>\n",
       "    </tr>\n",
       "    <tr>\n",
       "      <th>3</th>\n",
       "      <td>408.904</td>\n",
       "      <td>2014</td>\n",
       "      <td>9</td>\n",
       "      <td>38</td>\n",
       "      <td>19</td>\n",
       "      <td>4</td>\n",
       "      <td>262</td>\n",
       "      <td>False</td>\n",
       "      <td>False</td>\n",
       "      <td>False</td>\n",
       "      <td>False</td>\n",
       "      <td>False</td>\n",
       "      <td>False</td>\n",
       "    </tr>\n",
       "    <tr>\n",
       "      <th>4</th>\n",
       "      <td>398.821</td>\n",
       "      <td>2014</td>\n",
       "      <td>9</td>\n",
       "      <td>38</td>\n",
       "      <td>20</td>\n",
       "      <td>5</td>\n",
       "      <td>263</td>\n",
       "      <td>False</td>\n",
       "      <td>False</td>\n",
       "      <td>False</td>\n",
       "      <td>False</td>\n",
       "      <td>False</td>\n",
       "      <td>False</td>\n",
       "    </tr>\n",
       "  </tbody>\n",
       "</table>\n",
       "</div>"
      ],
      "text/plain": [
       "  Adj Close  Year  Month  Week  Day  Dayofweek  Dayofyear  Is_month_end  \\\n",
       "0   457.334  2014      9    38   16          1        259         False   \n",
       "1    424.44  2014      9    38   17          2        260         False   \n",
       "2   394.796  2014      9    38   18          3        261         False   \n",
       "3   408.904  2014      9    38   19          4        262         False   \n",
       "4   398.821  2014      9    38   20          5        263         False   \n",
       "\n",
       "   Is_month_start  Is_quarter_end  Is_quarter_start  Is_year_end  \\\n",
       "0           False           False             False        False   \n",
       "1           False           False             False        False   \n",
       "2           False           False             False        False   \n",
       "3           False           False             False        False   \n",
       "4           False           False             False        False   \n",
       "\n",
       "   Is_year_start  \n",
       "0          False  \n",
       "1          False  \n",
       "2          False  \n",
       "3          False  \n",
       "4          False  "
      ]
     },
     "execution_count": 27,
     "metadata": {},
     "output_type": "execute_result"
    }
   ],
   "source": [
    "new_data.head()"
   ]
  },
  {
   "cell_type": "code",
   "execution_count": 28,
   "metadata": {},
   "outputs": [
    {
     "data": {
      "text/plain": [
       "(2146, 13)"
      ]
     },
     "execution_count": 28,
     "metadata": {},
     "output_type": "execute_result"
    }
   ],
   "source": [
    "new_data.shape"
   ]
  },
  {
   "cell_type": "code",
   "execution_count": 29,
   "metadata": {},
   "outputs": [],
   "source": [
    "train = new_data[:1600]\n",
    "test = new_data[1600:]\n",
    "\n",
    "x_train = train.drop('Adj Close', axis=1)\n",
    "y_train = train['Adj Close']\n",
    "x_test = test.drop('Adj Close', axis=1)\n",
    "y_test = test['Adj Close']"
   ]
  },
  {
   "cell_type": "code",
   "execution_count": 30,
   "metadata": {},
   "outputs": [
    {
     "name": "stdout",
     "output_type": "stream",
     "text": [
      "(1600, 12) (1600,)\n"
     ]
    }
   ],
   "source": [
    "print(x_train.shape, y_train.shape)"
   ]
  },
  {
   "cell_type": "code",
   "execution_count": 31,
   "metadata": {},
   "outputs": [
    {
     "name": "stdout",
     "output_type": "stream",
     "text": [
      "(546, 12) (546,)\n"
     ]
    }
   ],
   "source": [
    "print(x_test.shape, y_test.shape)"
   ]
  },
  {
   "cell_type": "code",
   "execution_count": null,
   "metadata": {},
   "outputs": [],
   "source": [
    "x_train"
   ]
  },
  {
   "cell_type": "code",
   "execution_count": null,
   "metadata": {},
   "outputs": [],
   "source": [
    "# Implementing linear regression\n",
    "from sklearn.linear_model import LinearRegression\n",
    "model = LinearRegression()\n",
    "model.fit(x_train, y_train)"
   ]
  },
  {
   "cell_type": "code",
   "execution_count": null,
   "metadata": {},
   "outputs": [],
   "source": [
    "# Predictions \n",
    "preds = model.predict(x_test)\n",
    "rms = np.sqrt(np.mean(np.power((np.array(y_test)-np.array(preds)),2)))\n",
    "print(rms)"
   ]
  },
  {
   "cell_type": "code",
   "execution_count": null,
   "metadata": {},
   "outputs": [],
   "source": [
    "# Plot\n",
    "test['Predictions'] = preds\n",
    "\n",
    "plt.plot(train['Adj Close'])\n",
    "plt.plot(test[['Adj Close', 'Predictions']])"
   ]
  },
  {
   "cell_type": "markdown",
   "metadata": {},
   "source": [
    "# k-Nearest Neighbours"
   ]
  },
  {
   "cell_type": "code",
   "execution_count": 32,
   "metadata": {},
   "outputs": [],
   "source": [
    "from sklearn import neighbors\n",
    "from sklearn.model_selection import GridSearchCV\n",
    "from sklearn.preprocessing import MinMaxScaler\n",
    "scaler = MinMaxScaler(feature_range=(0, 1))"
   ]
  },
  {
   "cell_type": "code",
   "execution_count": 33,
   "metadata": {},
   "outputs": [],
   "source": [
    "# # new_data.dropna(inplace=True)\n",
    "# X = new_data.drop('Adj Close', axis=1)\n",
    "# y = new_data['Adj Close']\n",
    "# X_train, X_test, y_train, y_test = train_test_split(X, y, random_state=1)\n",
    "# # train = new_data[:1600]\n",
    "# # test = new_data[1600:]\n",
    "\n",
    "\n",
    "# x_train = train.drop('Adj Close', axis=1)\n",
    "# y_train = train['Adj Close']\n",
    "# x_test = test.drop('Adj Close', axis=1)\n",
    "# y_test = test['Adj Close']"
   ]
  },
  {
   "cell_type": "code",
   "execution_count": 34,
   "metadata": {},
   "outputs": [],
   "source": [
    "train = new_data[:1600]\n",
    "test = new_data[1600:]\n",
    "\n",
    "x_train = train.drop('Adj Close', axis=1)\n",
    "y_train = train['Adj Close']\n",
    "x_test = test.drop('Adj Close', axis=1)\n",
    "y_test = test['Adj Close']"
   ]
  },
  {
   "cell_type": "code",
   "execution_count": 36,
   "metadata": {},
   "outputs": [],
   "source": [
    "# scaling the data\n",
    "\n",
    "x_train_scaled = scaler.fit_transform(x_train)\n",
    "x_train = pd.DataFrame(x_train_scaled)\n",
    "x_test_scaled = scaler.fit_transform(x_test)\n",
    "x_test = pd.DataFrame(x_test_scaled)"
   ]
  },
  {
   "cell_type": "code",
   "execution_count": 37,
   "metadata": {},
   "outputs": [],
   "source": [
    "# using gridsearch to find the best value of k\n",
    "\n",
    "params = {'n_neighbors': [1, 2, 3, 4, 5, 6, 7, 8, 9, 10, 11, 12, 13, 14, 15]}\n",
    "knn = neighbors.KNeighborsRegressor()\n",
    "model = GridSearchCV(knn, params, cv=5)"
   ]
  },
  {
   "cell_type": "code",
   "execution_count": 39,
   "metadata": {},
   "outputs": [
    {
     "data": {
      "text/plain": [
       "(1600, 12)"
      ]
     },
     "execution_count": 39,
     "metadata": {},
     "output_type": "execute_result"
    }
   ],
   "source": [
    "x_train.shape"
   ]
  },
  {
   "cell_type": "code",
   "execution_count": 40,
   "metadata": {},
   "outputs": [
    {
     "data": {
      "text/plain": [
       "(1600,)"
      ]
     },
     "execution_count": 40,
     "metadata": {},
     "output_type": "execute_result"
    }
   ],
   "source": [
    "y_train.shape"
   ]
  },
  {
   "cell_type": "code",
   "execution_count": 41,
   "metadata": {},
   "outputs": [
    {
     "name": "stdout",
     "output_type": "stream",
     "text": [
      "(1600, 12) (1600,)\n"
     ]
    }
   ],
   "source": [
    "print(x_train.shape, y_train.shape)"
   ]
  },
  {
   "cell_type": "code",
   "execution_count": 42,
   "metadata": {},
   "outputs": [
    {
     "name": "stdout",
     "output_type": "stream",
     "text": [
      "(546, 12) (546,)\n"
     ]
    }
   ],
   "source": [
    "print(x_test.shape, y_test.shape)"
   ]
  },
  {
   "cell_type": "code",
   "execution_count": 43,
   "metadata": {},
   "outputs": [],
   "source": [
    "# fitting the model and predicting\n",
    "model.fit(x_train, y_train)\n",
    "preds = model.predict(x_test)"
   ]
  },
  {
   "cell_type": "code",
   "execution_count": 44,
   "metadata": {},
   "outputs": [
    {
     "name": "stdout",
     "output_type": "stream",
     "text": [
      "6407.940377536821\n"
     ]
    }
   ],
   "source": [
    "# Results\n",
    "rms = np.sqrt(np.mean(np.power((np.array(y_test)-np.array(preds)),2)))\n",
    "print(rms)"
   ]
  },
  {
   "cell_type": "code",
   "execution_count": 46,
   "metadata": {},
   "outputs": [
    {
     "name": "stderr",
     "output_type": "stream",
     "text": [
      "D:\\ProgramData\\Anaconda3\\envs\\PythonAdv\\lib\\site-packages\\ipykernel_launcher.py:1: SettingWithCopyWarning: \n",
      "A value is trying to be set on a copy of a slice from a DataFrame.\n",
      "Try using .loc[row_indexer,col_indexer] = value instead\n",
      "\n",
      "See the caveats in the documentation: https://pandas.pydata.org/pandas-docs/stable/user_guide/indexing.html#returning-a-view-versus-a-copy\n",
      "  \"\"\"Entry point for launching an IPython kernel.\n"
     ]
    },
    {
     "data": {
      "text/plain": [
       "[<matplotlib.lines.Line2D at 0x211e4ca2fd0>,\n",
       " <matplotlib.lines.Line2D at 0x211e4cb0080>]"
      ]
     },
     "execution_count": 46,
     "metadata": {},
     "output_type": "execute_result"
    },
    {
     "data": {
      "image/png": "[encoded data removed]",
      "text/plain": [
       "<Figure size 1440x720 with 1 Axes>"
      ]
     },
     "metadata": {},
     "output_type": "display_data"
    }
   ],
   "source": [
    "test['Predictions'] = preds\n",
    "\n",
    "plt.plot(train['Adj Close'])\n",
    "plt.plot(test[['Adj Close', 'Predictions']])"
   ]
  },
  {
   "cell_type": "markdown",
   "metadata": {},
   "source": [
    "# Multilayer Perceptron"
   ]
  },
  {
   "cell_type": "code",
   "execution_count": 47,
   "metadata": {},
   "outputs": [],
   "source": [
    "import tensorflow as tf\n",
    "from tensorflow.keras import layers"
   ]
  },
  {
   "cell_type": "code",
   "execution_count": 48,
   "metadata": {},
   "outputs": [],
   "source": [
    "model = tf.keras.models.Sequential()"
   ]
  },
  {
   "cell_type": "code",
   "execution_count": 49,
   "metadata": {},
   "outputs": [],
   "source": [
    "model.add(tf.keras.layers.Dense(100, activation=tf.nn.relu))\n",
    "model.add(tf.keras.layers.Dense(100, activation=tf.nn.relu))\n",
    "model.add(tf.keras.layers.Dense(1, activation=tf.nn.relu))"
   ]
  },
  {
   "cell_type": "code",
   "execution_count": 50,
   "metadata": {},
   "outputs": [],
   "source": [
    "model.compile(optimizer='adam', loss='mean_squared_error')"
   ]
  },
  {
   "cell_type": "code",
   "execution_count": 59,
   "metadata": {},
   "outputs": [],
   "source": [
    "X_train = np.array(x_train).astype(np.float32)\n",
    "Y_train = np.array(y_train).astype(np.float32)"
   ]
  },
  {
   "cell_type": "code",
   "execution_count": 60,
   "metadata": {},
   "outputs": [
    {
     "data": {
      "text/plain": [
       "array([[0.      , 0.727273, 0.711538, 0.5     , ..., 0.      , 0.      , 0.      , 0.      ],\n",
       "       [0.      , 0.727273, 0.711538, 0.533333, ..., 0.      , 0.      , 0.      , 0.      ],\n",
       "       [0.      , 0.727273, 0.711538, 0.566667, ..., 0.      , 0.      , 0.      , 0.      ],\n",
       "       [0.      , 0.727273, 0.711538, 0.6     , ..., 0.      , 0.      , 0.      , 0.      ],\n",
       "       ...,\n",
       "       [1.      , 0.      , 0.076923, 0.966667, ..., 0.      , 0.      , 0.      , 0.      ],\n",
       "       [1.      , 0.      , 0.076923, 1.      , ..., 0.      , 0.      , 0.      , 0.      ],\n",
       "       [1.      , 0.090909, 0.076923, 0.      , ..., 0.      , 0.      , 0.      , 0.      ],\n",
       "       [1.      , 0.090909, 0.076923, 0.033333, ..., 0.      , 0.      , 0.      , 0.      ]], dtype=float32)"
      ]
     },
     "execution_count": 60,
     "metadata": {},
     "output_type": "execute_result"
    }
   ],
   "source": [
    "X_train"
   ]
  },
  {
   "cell_type": "code",
   "execution_count": 61,
   "metadata": {},
   "outputs": [
    {
     "data": {
      "text/plain": [
       "(1600, 12)"
      ]
     },
     "execution_count": 61,
     "metadata": {},
     "output_type": "execute_result"
    }
   ],
   "source": [
    "X_train.shape"
   ]
  },
  {
   "cell_type": "code",
   "execution_count": 62,
   "metadata": {},
   "outputs": [
    {
     "name": "stdout",
     "output_type": "stream",
     "text": [
      "Epoch 1/500\n",
      "50/50 [==============================] - 0s 1ms/step - loss: 22216632.0000\n",
      "Epoch 2/500\n",
      "50/50 [==============================] - 0s 1ms/step - loss: 21994588.0000\n",
      "Epoch 3/500\n",
      "50/50 [==============================] - 0s 1ms/step - loss: 20983042.0000\n",
      "Epoch 4/500\n",
      "50/50 [==============================] - 0s 997us/step - loss: 18611380.0000\n",
      "Epoch 5/500\n",
      "50/50 [==============================] - 0s 1ms/step - loss: 15645952.0000\n",
      "Epoch 6/500\n",
      "50/50 [==============================] - 0s 1ms/step - loss: 13702956.0000\n",
      "Epoch 7/500\n",
      "50/50 [==============================] - 0s 977us/step - loss: 13046820.0000\n",
      "Epoch 8/500\n",
      "50/50 [==============================] - 0s 1ms/step - loss: 12859011.0000\n",
      "Epoch 9/500\n",
      "50/50 [==============================] - 0s 1ms/step - loss: 12702875.0000\n",
      "Epoch 10/500\n",
      "50/50 [==============================] - 0s 1ms/step - loss: 12553477.0000\n",
      "Epoch 11/500\n",
      "50/50 [==============================] - 0s 957us/step - loss: 12399493.0000\n",
      "Epoch 12/500\n",
      "50/50 [==============================] - 0s 1ms/step - loss: 12242950.0000\n",
      "Epoch 13/500\n",
      "50/50 [==============================] - 0s 1ms/step - loss: 12072477.0000\n",
      "Epoch 14/500\n",
      "50/50 [==============================] - 0s 1ms/step - loss: 11893270.0000\n",
      "Epoch 15/500\n",
      "50/50 [==============================] - 0s 1ms/step - loss: 11709048.0000\n",
      "Epoch 16/500\n",
      "50/50 [==============================] - 0s 1ms/step - loss: 11511526.0000\n",
      "Epoch 17/500\n",
      "50/50 [==============================] - 0s 977us/step - loss: 11318235.0000\n",
      "Epoch 18/500\n",
      "50/50 [==============================] - 0s 1ms/step - loss: 11092110.0000\n",
      "Epoch 19/500\n",
      "50/50 [==============================] - 0s 1ms/step - loss: 10852677.0000\n",
      "Epoch 20/500\n",
      "50/50 [==============================] - 0s 1ms/step - loss: 10609338.0000\n",
      "Epoch 21/500\n",
      "50/50 [==============================] - 0s 1ms/step - loss: 10356938.0000\n",
      "Epoch 22/500\n",
      "50/50 [==============================] - 0s 977us/step - loss: 10091353.0000\n",
      "Epoch 23/500\n",
      "50/50 [==============================] - 0s 991us/step - loss: 9815320.0000\n",
      "Epoch 24/500\n",
      "50/50 [==============================] - 0s 1ms/step - loss: 9537889.0000\n",
      "Epoch 25/500\n",
      "50/50 [==============================] - 0s 1ms/step - loss: 9262583.0000\n",
      "Epoch 26/500\n",
      "50/50 [==============================] - 0s 1ms/step - loss: 8984980.0000\n",
      "Epoch 27/500\n",
      "50/50 [==============================] - 0s 1ms/step - loss: 8725495.0000\n",
      "Epoch 28/500\n",
      "50/50 [==============================] - 0s 1ms/step - loss: 8471676.0000\n",
      "Epoch 29/500\n",
      "50/50 [==============================] - 0s 1ms/step - loss: 8233095.5000\n",
      "Epoch 30/500\n",
      "50/50 [==============================] - 0s 1ms/step - loss: 8011090.5000\n",
      "Epoch 31/500\n",
      "50/50 [==============================] - 0s 1ms/step - loss: 7819691.5000\n",
      "Epoch 32/500\n",
      "50/50 [==============================] - 0s 1ms/step - loss: 7642444.0000\n",
      "Epoch 33/500\n",
      "50/50 [==============================] - 0s 1ms/step - loss: 7469901.0000\n",
      "Epoch 34/500\n",
      "50/50 [==============================] - 0s 1ms/step - loss: 7324368.0000\n",
      "Epoch 35/500\n",
      "50/50 [==============================] - 0s 1ms/step - loss: 7191984.5000\n",
      "Epoch 36/500\n",
      "50/50 [==============================] - 0s 1ms/step - loss: 7077940.0000\n",
      "Epoch 37/500\n",
      "50/50 [==============================] - 0s 1ms/step - loss: 6983101.0000\n",
      "Epoch 38/500\n",
      "50/50 [==============================] - 0s 1ms/step - loss: 6878082.0000\n",
      "Epoch 39/500\n",
      "50/50 [==============================] - 0s 1ms/step - loss: 6795620.0000\n",
      "Epoch 40/500\n",
      "50/50 [==============================] - 0s 965us/step - loss: 6732589.5000\n",
      "Epoch 41/500\n",
      "50/50 [==============================] - 0s 1ms/step - loss: 6647934.5000\n",
      "Epoch 42/500\n",
      "50/50 [==============================] - 0s 1ms/step - loss: 6589235.0000\n",
      "Epoch 43/500\n",
      "50/50 [==============================] - 0s 1ms/step - loss: 6529010.5000\n",
      "Epoch 44/500\n",
      "50/50 [==============================] - 0s 1ms/step - loss: 6478150.5000\n",
      "Epoch 45/500\n",
      "50/50 [==============================] - 0s 1ms/step - loss: 6431045.0000\n",
      "Epoch 46/500\n",
      "50/50 [==============================] - 0s 1ms/step - loss: 6383099.0000\n",
      "Epoch 47/500\n",
      "50/50 [==============================] - 0s 997us/step - loss: 6358632.5000\n",
      "Epoch 48/500\n",
      "50/50 [==============================] - 0s 1ms/step - loss: 6318996.0000\n",
      "Epoch 49/500\n",
      "50/50 [==============================] - 0s 1ms/step - loss: 6264737.5000\n",
      "Epoch 50/500\n",
      "50/50 [==============================] - 0s 1ms/step - loss: 6226908.0000\n",
      "Epoch 51/500\n",
      "50/50 [==============================] - 0s 1ms/step - loss: 6206842.0000\n",
      "Epoch 52/500\n",
      "50/50 [==============================] - ETA: 0s - loss: 6153702.500 - 0s 1ms/step - loss: 6153702.5000\n",
      "Epoch 53/500\n",
      "50/50 [==============================] - 0s 1ms/step - loss: 6138565.0000\n",
      "Epoch 54/500\n",
      "50/50 [==============================] - 0s 977us/step - loss: 6139550.0000\n",
      "Epoch 55/500\n",
      "50/50 [==============================] - 0s 1ms/step - loss: 6081592.5000\n",
      "Epoch 56/500\n",
      "50/50 [==============================] - 0s 1ms/step - loss: 6048279.5000\n",
      "Epoch 57/500\n",
      "50/50 [==============================] - 0s 944us/step - loss: 6022482.5000\n",
      "Epoch 58/500\n",
      "50/50 [==============================] - 0s 1ms/step - loss: 6005321.0000\n",
      "Epoch 59/500\n",
      "50/50 [==============================] - 0s 1ms/step - loss: 5976509.5000\n",
      "Epoch 60/500\n",
      "50/50 [==============================] - 0s 1ms/step - loss: 5961682.0000\n",
      "Epoch 61/500\n",
      "50/50 [==============================] - 0s 1ms/step - loss: 5940132.5000\n",
      "Epoch 62/500\n",
      "50/50 [==============================] - 0s 997us/step - loss: 5923468.0000\n",
      "Epoch 63/500\n",
      "50/50 [==============================] - 0s 1ms/step - loss: 5905737.0000\n",
      "Epoch 64/500\n",
      "50/50 [==============================] - 0s 997us/step - loss: 5900775.5000\n",
      "Epoch 65/500\n",
      "50/50 [==============================] - 0s 957us/step - loss: 5893481.0000\n",
      "Epoch 66/500\n",
      "50/50 [==============================] - 0s 957us/step - loss: 5853959.5000\n",
      "Epoch 67/500\n",
      "50/50 [==============================] - 0s 957us/step - loss: 5841573.0000\n",
      "Epoch 68/500\n",
      "50/50 [==============================] - 0s 1ms/step - loss: 5831065.5000\n",
      "Epoch 69/500\n",
      "50/50 [==============================] - 0s 1ms/step - loss: 5814843.0000\n",
      "Epoch 70/500\n",
      "50/50 [==============================] - 0s 1ms/step - loss: 5822872.5000\n",
      "Epoch 71/500\n",
      "50/50 [==============================] - 0s 1ms/step - loss: 5816441.5000\n",
      "Epoch 72/500\n",
      "50/50 [==============================] - 0s 1ms/step - loss: 5785588.5000\n",
      "Epoch 73/500\n",
      "50/50 [==============================] - 0s 1ms/step - loss: 5785282.5000\n",
      "Epoch 74/500\n",
      "50/50 [==============================] - 0s 1ms/step - loss: 5768679.0000\n",
      "Epoch 75/500\n",
      "50/50 [==============================] - 0s 1ms/step - loss: 5755573.0000\n",
      "Epoch 76/500\n",
      "50/50 [==============================] - 0s 1ms/step - loss: 5748292.5000\n",
      "Epoch 77/500\n",
      "50/50 [==============================] - 0s 997us/step - loss: 5751662.0000\n",
      "Epoch 78/500\n",
      "50/50 [==============================] - 0s 1ms/step - loss: 5731350.0000\n",
      "Epoch 79/500\n",
      "50/50 [==============================] - 0s 1ms/step - loss: 5721611.5000\n",
      "Epoch 80/500\n",
      "50/50 [==============================] - 0s 957us/step - loss: 5730848.0000\n",
      "Epoch 81/500\n",
      "50/50 [==============================] - 0s 1ms/step - loss: 5716896.0000\n",
      "Epoch 82/500\n",
      "50/50 [==============================] - 0s 1ms/step - loss: 5717538.0000\n",
      "Epoch 83/500\n",
      "50/50 [==============================] - 0s 1ms/step - loss: 5697620.5000\n",
      "Epoch 84/500\n",
      "50/50 [==============================] - 0s 1ms/step - loss: 5694227.0000\n",
      "Epoch 85/500\n",
      "50/50 [==============================] - 0s 1ms/step - loss: 5685826.5000\n",
      "Epoch 86/500\n",
      "50/50 [==============================] - 0s 977us/step - loss: 5689342.5000\n",
      "Epoch 87/500\n",
      "50/50 [==============================] - 0s 997us/step - loss: 5677459.0000\n",
      "Epoch 88/500\n",
      "50/50 [==============================] - 0s 1ms/step - loss: 5675519.5000\n",
      "Epoch 89/500\n",
      "50/50 [==============================] - 0s 1ms/step - loss: 5659831.0000\n",
      "Epoch 90/500\n",
      "50/50 [==============================] - 0s 957us/step - loss: 5667716.0000\n",
      "Epoch 91/500\n",
      "50/50 [==============================] - 0s 1ms/step - loss: 5649172.5000\n",
      "Epoch 92/500\n",
      "50/50 [==============================] - 0s 977us/step - loss: 5658733.0000\n",
      "Epoch 93/500\n",
      "50/50 [==============================] - 0s 1ms/step - loss: 5638259.0000\n",
      "Epoch 94/500\n"
     ]
    },
    {
     "name": "stdout",
     "output_type": "stream",
     "text": [
      "50/50 [==============================] - 0s 1ms/step - loss: 5636086.5000\n",
      "Epoch 95/500\n",
      "50/50 [==============================] - 0s 1ms/step - loss: 5628866.0000\n",
      "Epoch 96/500\n",
      "50/50 [==============================] - 0s 1ms/step - loss: 5625826.5000\n",
      "Epoch 97/500\n",
      "50/50 [==============================] - 0s 1ms/step - loss: 5648102.0000\n",
      "Epoch 98/500\n",
      "50/50 [==============================] - 0s 997us/step - loss: 5623105.5000\n",
      "Epoch 99/500\n",
      "50/50 [==============================] - 0s 1ms/step - loss: 5622177.5000\n",
      "Epoch 100/500\n",
      "50/50 [==============================] - 0s 957us/step - loss: 5622132.0000\n",
      "Epoch 101/500\n",
      "50/50 [==============================] - 0s 997us/step - loss: 5599028.0000\n",
      "Epoch 102/500\n",
      "50/50 [==============================] - 0s 1ms/step - loss: 5594912.5000\n",
      "Epoch 103/500\n",
      "50/50 [==============================] - 0s 1ms/step - loss: 5611585.5000\n",
      "Epoch 104/500\n",
      "50/50 [==============================] - 0s 930us/step - loss: 5597787.0000\n",
      "Epoch 105/500\n",
      "50/50 [==============================] - 0s 1ms/step - loss: 5579115.5000\n",
      "Epoch 106/500\n",
      "50/50 [==============================] - 0s 1ms/step - loss: 5582479.5000\n",
      "Epoch 107/500\n",
      "50/50 [==============================] - 0s 1ms/step - loss: 5578284.0000\n",
      "Epoch 108/500\n",
      "50/50 [==============================] - 0s 908us/step - loss: 5567925.0000\n",
      "Epoch 109/500\n",
      "50/50 [==============================] - 0s 1ms/step - loss: 5559646.5000\n",
      "Epoch 110/500\n",
      "50/50 [==============================] - 0s 964us/step - loss: 5554605.0000\n",
      "Epoch 111/500\n",
      "50/50 [==============================] - 0s 1ms/step - loss: 5555616.5000\n",
      "Epoch 112/500\n",
      "50/50 [==============================] - 0s 977us/step - loss: 5553179.0000\n",
      "Epoch 113/500\n",
      "50/50 [==============================] - 0s 957us/step - loss: 5541889.5000\n",
      "Epoch 114/500\n",
      "50/50 [==============================] - 0s 1ms/step - loss: 5536226.0000\n",
      "Epoch 115/500\n",
      "50/50 [==============================] - 0s 977us/step - loss: 5527721.5000\n",
      "Epoch 116/500\n",
      "50/50 [==============================] - 0s 1ms/step - loss: 5527746.5000\n",
      "Epoch 117/500\n",
      "50/50 [==============================] - 0s 992us/step - loss: 5518114.0000\n",
      "Epoch 118/500\n",
      "50/50 [==============================] - 0s 1ms/step - loss: 5511125.0000\n",
      "Epoch 119/500\n",
      "50/50 [==============================] - 0s 937us/step - loss: 5503547.0000\n",
      "Epoch 120/500\n",
      "50/50 [==============================] - 0s 1ms/step - loss: 5496284.0000\n",
      "Epoch 121/500\n",
      "50/50 [==============================] - 0s 1ms/step - loss: 5493881.5000\n",
      "Epoch 122/500\n",
      "50/50 [==============================] - 0s 1ms/step - loss: 5483293.5000\n",
      "Epoch 123/500\n",
      "50/50 [==============================] - 0s 1ms/step - loss: 5482590.5000\n",
      "Epoch 124/500\n",
      "50/50 [==============================] - 0s 1ms/step - loss: 5462302.0000\n",
      "Epoch 125/500\n",
      "50/50 [==============================] - 0s 1ms/step - loss: 5459449.0000\n",
      "Epoch 126/500\n",
      "50/50 [==============================] - 0s 977us/step - loss: 5452944.5000\n",
      "Epoch 127/500\n",
      "50/50 [==============================] - 0s 918us/step - loss: 5448168.5000\n",
      "Epoch 128/500\n",
      "50/50 [==============================] - 0s 1ms/step - loss: 5446857.5000\n",
      "Epoch 129/500\n",
      "50/50 [==============================] - 0s 1ms/step - loss: 5426610.5000\n",
      "Epoch 130/500\n",
      "50/50 [==============================] - 0s 1ms/step - loss: 5419721.5000\n",
      "Epoch 131/500\n",
      "50/50 [==============================] - 0s 1ms/step - loss: 5403389.0000\n",
      "Epoch 132/500\n",
      "50/50 [==============================] - 0s 937us/step - loss: 5419667.0000\n",
      "Epoch 133/500\n",
      "50/50 [==============================] - 0s 1ms/step - loss: 5396260.5000\n",
      "Epoch 134/500\n",
      "50/50 [==============================] - 0s 1ms/step - loss: 5391467.5000\n",
      "Epoch 135/500\n",
      "50/50 [==============================] - 0s 1ms/step - loss: 5381683.0000\n",
      "Epoch 136/500\n",
      "50/50 [==============================] - 0s 993us/step - loss: 5362145.0000\n",
      "Epoch 137/500\n",
      "50/50 [==============================] - 0s 944us/step - loss: 5361206.5000\n",
      "Epoch 138/500\n",
      "50/50 [==============================] - 0s 997us/step - loss: 5366495.5000\n",
      "Epoch 139/500\n",
      "50/50 [==============================] - 0s 1ms/step - loss: 5340387.5000\n",
      "Epoch 140/500\n",
      "50/50 [==============================] - 0s 1ms/step - loss: 5334383.5000\n",
      "Epoch 141/500\n",
      "50/50 [==============================] - 0s 1ms/step - loss: 5321075.5000A: 0s - loss: 5267446.500\n",
      "Epoch 142/500\n",
      "50/50 [==============================] - 0s 1ms/step - loss: 5311086.0000\n",
      "Epoch 143/500\n",
      "50/50 [==============================] - 0s 1ms/step - loss: 5297820.0000\n",
      "Epoch 144/500\n",
      "50/50 [==============================] - 0s 1ms/step - loss: 5286137.0000\n",
      "Epoch 145/500\n",
      "50/50 [==============================] - 0s 1ms/step - loss: 5277637.5000\n",
      "Epoch 146/500\n",
      "50/50 [==============================] - 0s 1ms/step - loss: 5268093.5000\n",
      "Epoch 147/500\n",
      "50/50 [==============================] - 0s 1ms/step - loss: 5262509.0000\n",
      "Epoch 148/500\n",
      "50/50 [==============================] - 0s 1ms/step - loss: 5251772.0000\n",
      "Epoch 149/500\n",
      "50/50 [==============================] - 0s 997us/step - loss: 5235793.0000\n",
      "Epoch 150/500\n",
      "50/50 [==============================] - 0s 957us/step - loss: 5238895.0000\n",
      "Epoch 151/500\n",
      "50/50 [==============================] - 0s 1ms/step - loss: 5218350.5000\n",
      "Epoch 152/500\n",
      "50/50 [==============================] - 0s 977us/step - loss: 5199912.5000\n",
      "Epoch 153/500\n",
      "50/50 [==============================] - 0s 1ms/step - loss: 5200955.5000\n",
      "Epoch 154/500\n",
      "50/50 [==============================] - 0s 1ms/step - loss: 5180550.5000\n",
      "Epoch 155/500\n",
      "50/50 [==============================] - 0s 1ms/step - loss: 5173596.0000\n",
      "Epoch 156/500\n",
      "50/50 [==============================] - 0s 957us/step - loss: 5153288.5000\n",
      "Epoch 157/500\n",
      "50/50 [==============================] - 0s 1ms/step - loss: 5154904.5000\n",
      "Epoch 158/500\n",
      "50/50 [==============================] - 0s 1ms/step - loss: 5137281.5000\n",
      "Epoch 159/500\n",
      "50/50 [==============================] - 0s 1ms/step - loss: 5139863.5000\n",
      "Epoch 160/500\n",
      "50/50 [==============================] - 0s 1ms/step - loss: 5115051.0000\n",
      "Epoch 161/500\n",
      "50/50 [==============================] - 0s 1ms/step - loss: 5100508.0000\n",
      "Epoch 162/500\n",
      "50/50 [==============================] - 0s 937us/step - loss: 5092231.5000\n",
      "Epoch 163/500\n",
      "50/50 [==============================] - 0s 957us/step - loss: 5070983.5000\n",
      "Epoch 164/500\n",
      "50/50 [==============================] - 0s 1ms/step - loss: 5065022.5000\n",
      "Epoch 165/500\n",
      "50/50 [==============================] - 0s 997us/step - loss: 5053309.0000\n",
      "Epoch 166/500\n",
      "50/50 [==============================] - 0s 1ms/step - loss: 5039922.0000\n",
      "Epoch 167/500\n",
      "50/50 [==============================] - 0s 984us/step - loss: 5032225.0000\n",
      "Epoch 168/500\n",
      "50/50 [==============================] - 0s 1ms/step - loss: 5017551.5000\n",
      "Epoch 169/500\n",
      "50/50 [==============================] - 0s 997us/step - loss: 5012660.0000\n",
      "Epoch 170/500\n",
      "50/50 [==============================] - 0s 957us/step - loss: 5003013.0000\n",
      "Epoch 171/500\n",
      "50/50 [==============================] - 0s 977us/step - loss: 4989795.0000\n",
      "Epoch 172/500\n",
      "50/50 [==============================] - 0s 978us/step - loss: 4986593.0000\n",
      "Epoch 173/500\n",
      "50/50 [==============================] - 0s 1ms/step - loss: 4955403.0000\n",
      "Epoch 174/500\n",
      "50/50 [==============================] - 0s 1ms/step - loss: 4944641.5000\n",
      "Epoch 175/500\n",
      "50/50 [==============================] - 0s 1ms/step - loss: 4936380.0000\n",
      "Epoch 176/500\n",
      "50/50 [==============================] - 0s 1ms/step - loss: 4935843.5000\n",
      "Epoch 177/500\n",
      "50/50 [==============================] - 0s 1ms/step - loss: 4905666.0000\n",
      "Epoch 178/500\n",
      "50/50 [==============================] - 0s 1ms/step - loss: 4903950.0000\n",
      "Epoch 179/500\n",
      "50/50 [==============================] - 0s 1ms/step - loss: 4884775.5000\n",
      "Epoch 180/500\n",
      "50/50 [==============================] - 0s 1ms/step - loss: 4862968.5000\n",
      "Epoch 181/500\n",
      "50/50 [==============================] - 0s 1ms/step - loss: 4873754.5000\n",
      "Epoch 182/500\n",
      "50/50 [==============================] - 0s 1ms/step - loss: 4849208.5000\n",
      "Epoch 183/500\n",
      "50/50 [==============================] - 0s 1ms/step - loss: 4832206.0000\n",
      "Epoch 184/500\n",
      "50/50 [==============================] - 0s 997us/step - loss: 4827953.5000\n",
      "Epoch 185/500\n",
      "50/50 [==============================] - 0s 1ms/step - loss: 4804678.5000\n",
      "Epoch 186/500\n"
     ]
    },
    {
     "name": "stdout",
     "output_type": "stream",
     "text": [
      "50/50 [==============================] - 0s 1ms/step - loss: 4805404.0000\n",
      "Epoch 187/500\n",
      "50/50 [==============================] - 0s 1ms/step - loss: 4786005.5000\n",
      "Epoch 188/500\n",
      "50/50 [==============================] - 0s 918us/step - loss: 4771916.0000\n",
      "Epoch 189/500\n",
      "50/50 [==============================] - 0s 1ms/step - loss: 4755192.5000\n",
      "Epoch 190/500\n",
      "50/50 [==============================] - 0s 957us/step - loss: 4743260.5000\n",
      "Epoch 191/500\n",
      "50/50 [==============================] - 0s 1ms/step - loss: 4732155.0000\n",
      "Epoch 192/500\n",
      "50/50 [==============================] - 0s 918us/step - loss: 4717672.5000\n",
      "Epoch 193/500\n",
      "50/50 [==============================] - 0s 1ms/step - loss: 4707570.0000\n",
      "Epoch 194/500\n",
      "50/50 [==============================] - 0s 965us/step - loss: 4690110.5000\n",
      "Epoch 195/500\n",
      "50/50 [==============================] - 0s 997us/step - loss: 4682021.5000\n",
      "Epoch 196/500\n",
      "50/50 [==============================] - 0s 908us/step - loss: 4680249.5000\n",
      "Epoch 197/500\n",
      "50/50 [==============================] - 0s 1ms/step - loss: 4656116.5000\n",
      "Epoch 198/500\n",
      "50/50 [==============================] - 0s 1ms/step - loss: 4643879.5000\n",
      "Epoch 199/500\n",
      "50/50 [==============================] - 0s 1ms/step - loss: 4631024.5000\n",
      "Epoch 200/500\n",
      "50/50 [==============================] - 0s 997us/step - loss: 4618256.5000\n",
      "Epoch 201/500\n",
      "50/50 [==============================] - 0s 1ms/step - loss: 4603970.0000\n",
      "Epoch 202/500\n",
      "50/50 [==============================] - 0s 1ms/step - loss: 4605759.5000\n",
      "Epoch 203/500\n",
      "50/50 [==============================] - 0s 950us/step - loss: 4589842.0000\n",
      "Epoch 204/500\n",
      "50/50 [==============================] - 0s 1ms/step - loss: 4576663.0000\n",
      "Epoch 205/500\n",
      "50/50 [==============================] - 0s 1ms/step - loss: 4551435.0000\n",
      "Epoch 206/500\n",
      "50/50 [==============================] - 0s 1ms/step - loss: 4548598.0000\n",
      "Epoch 207/500\n",
      "50/50 [==============================] - 0s 997us/step - loss: 4535342.0000\n",
      "Epoch 208/500\n",
      "50/50 [==============================] - 0s 1ms/step - loss: 4519447.5000\n",
      "Epoch 209/500\n",
      "50/50 [==============================] - 0s 1ms/step - loss: 4510580.0000\n",
      "Epoch 210/500\n",
      "50/50 [==============================] - 0s 977us/step - loss: 4490097.0000\n",
      "Epoch 211/500\n",
      "50/50 [==============================] - 0s 977us/step - loss: 4486693.5000\n",
      "Epoch 212/500\n",
      "50/50 [==============================] - 0s 1ms/step - loss: 4473807.5000\n",
      "Epoch 213/500\n",
      "50/50 [==============================] - 0s 1ms/step - loss: 4456052.0000\n",
      "Epoch 214/500\n",
      "50/50 [==============================] - 0s 1ms/step - loss: 4445365.0000\n",
      "Epoch 215/500\n",
      "50/50 [==============================] - 0s 957us/step - loss: 4433872.5000\n",
      "Epoch 216/500\n",
      "50/50 [==============================] - 0s 997us/step - loss: 4418989.5000\n",
      "Epoch 217/500\n",
      "50/50 [==============================] - 0s 1ms/step - loss: 4402991.5000\n",
      "Epoch 218/500\n",
      "50/50 [==============================] - 0s 1ms/step - loss: 4390436.0000\n",
      "Epoch 219/500\n",
      "50/50 [==============================] - 0s 1ms/step - loss: 4387145.0000\n",
      "Epoch 220/500\n",
      "50/50 [==============================] - 0s 1ms/step - loss: 4367146.0000\n",
      "Epoch 221/500\n",
      "50/50 [==============================] - 0s 1ms/step - loss: 4356597.5000\n",
      "Epoch 222/500\n",
      "50/50 [==============================] - 0s 1ms/step - loss: 4339669.0000\n",
      "Epoch 223/500\n",
      "50/50 [==============================] - 0s 1ms/step - loss: 4330700.0000\n",
      "Epoch 224/500\n",
      "50/50 [==============================] - 0s 988us/step - loss: 4324749.0000\n",
      "Epoch 225/500\n",
      "50/50 [==============================] - 0s 997us/step - loss: 4305116.0000\n",
      "Epoch 226/500\n",
      "50/50 [==============================] - 0s 1ms/step - loss: 4288142.5000\n",
      "Epoch 227/500\n",
      "50/50 [==============================] - 0s 937us/step - loss: 4277763.0000\n",
      "Epoch 228/500\n",
      "50/50 [==============================] - 0s 1ms/step - loss: 4267593.5000\n",
      "Epoch 229/500\n",
      "50/50 [==============================] - 0s 997us/step - loss: 4260862.0000\n",
      "Epoch 230/500\n",
      "50/50 [==============================] - 0s 1ms/step - loss: 4235155.5000\n",
      "Epoch 231/500\n",
      "50/50 [==============================] - 0s 1ms/step - loss: 4237718.5000\n",
      "Epoch 232/500\n",
      "50/50 [==============================] - 0s 1ms/step - loss: 4226760.5000\n",
      "Epoch 233/500\n",
      "50/50 [==============================] - 0s 1ms/step - loss: 4204370.0000\n",
      "Epoch 234/500\n",
      "50/50 [==============================] - 0s 1ms/step - loss: 4188415.7500\n",
      "Epoch 235/500\n",
      "50/50 [==============================] - 0s 1ms/step - loss: 4172295.7500\n",
      "Epoch 236/500\n",
      "50/50 [==============================] - 0s 1ms/step - loss: 4160149.0000\n",
      "Epoch 237/500\n",
      "50/50 [==============================] - 0s 938us/step - loss: 4150391.7500\n",
      "Epoch 238/500\n",
      "50/50 [==============================] - 0s 1ms/step - loss: 4142584.7500\n",
      "Epoch 239/500\n",
      "50/50 [==============================] - 0s 1ms/step - loss: 4126181.0000\n",
      "Epoch 240/500\n",
      "50/50 [==============================] - ETA: 0s - loss: 4070006.250 - 0s 1ms/step - loss: 4111138.5000\n",
      "Epoch 241/500\n",
      "50/50 [==============================] - 0s 977us/step - loss: 4107682.0000\n",
      "Epoch 242/500\n",
      "50/50 [==============================] - 0s 1ms/step - loss: 4089297.2500\n",
      "Epoch 243/500\n",
      "50/50 [==============================] - 0s 1ms/step - loss: 4083528.7500\n",
      "Epoch 244/500\n",
      "50/50 [==============================] - 0s 1ms/step - loss: 4066757.7500\n",
      "Epoch 245/500\n",
      "50/50 [==============================] - 0s 1ms/step - loss: 4047307.0000\n",
      "Epoch 246/500\n",
      "50/50 [==============================] - 0s 1ms/step - loss: 4039933.7500\n",
      "Epoch 247/500\n",
      "50/50 [==============================] - 0s 1ms/step - loss: 4027803.5000\n",
      "Epoch 248/500\n",
      "50/50 [==============================] - 0s 1ms/step - loss: 4012241.5000\n",
      "Epoch 249/500\n",
      "50/50 [==============================] - 0s 1ms/step - loss: 4000575.0000\n",
      "Epoch 250/500\n",
      "50/50 [==============================] - 0s 1ms/step - loss: 4007048.0000\n",
      "Epoch 251/500\n",
      "50/50 [==============================] - 0s 1ms/step - loss: 3980803.7500\n",
      "Epoch 252/500\n",
      "50/50 [==============================] - 0s 1ms/step - loss: 3961733.5000\n",
      "Epoch 253/500\n",
      "50/50 [==============================] - 0s 1ms/step - loss: 3949289.2500\n",
      "Epoch 254/500\n",
      "50/50 [==============================] - 0s 927us/step - loss: 3942726.0000\n",
      "Epoch 255/500\n",
      "50/50 [==============================] - 0s 1ms/step - loss: 3927433.2500\n",
      "Epoch 256/500\n",
      "50/50 [==============================] - 0s 938us/step - loss: 3913568.0000\n",
      "Epoch 257/500\n",
      "50/50 [==============================] - 0s 957us/step - loss: 3897834.0000\n",
      "Epoch 258/500\n",
      "50/50 [==============================] - 0s 918us/step - loss: 3884837.0000\n",
      "Epoch 259/500\n",
      "50/50 [==============================] - 0s 1ms/step - loss: 3873728.2500\n",
      "Epoch 260/500\n",
      "50/50 [==============================] - 0s 997us/step - loss: 3852306.2500\n",
      "Epoch 261/500\n",
      "50/50 [==============================] - 0s 997us/step - loss: 3850364.7500\n",
      "Epoch 262/500\n",
      "50/50 [==============================] - 0s 1ms/step - loss: 3864416.0000\n",
      "Epoch 263/500\n",
      "50/50 [==============================] - 0s 1ms/step - loss: 3818893.7500\n",
      "Epoch 264/500\n",
      "50/50 [==============================] - 0s 1ms/step - loss: 3804910.7500\n",
      "Epoch 265/500\n",
      "50/50 [==============================] - 0s 1ms/step - loss: 3787217.5000\n",
      "Epoch 266/500\n",
      "50/50 [==============================] - 0s 980us/step - loss: 3777444.5000\n",
      "Epoch 267/500\n",
      "50/50 [==============================] - 0s 858us/step - loss: 3766487.7500\n",
      "Epoch 268/500\n",
      "50/50 [==============================] - 0s 1ms/step - loss: 3764535.7500\n",
      "Epoch 269/500\n",
      "50/50 [==============================] - 0s 1ms/step - loss: 3744348.7500\n",
      "Epoch 270/500\n",
      "50/50 [==============================] - 0s 1ms/step - loss: 3727271.0000\n",
      "Epoch 271/500\n",
      "50/50 [==============================] - 0s 938us/step - loss: 3717541.7500\n",
      "Epoch 272/500\n",
      "50/50 [==============================] - 0s 978us/step - loss: 3705999.2500\n",
      "Epoch 273/500\n",
      "50/50 [==============================] - 0s 1ms/step - loss: 3688055.7500\n",
      "Epoch 274/500\n",
      "50/50 [==============================] - 0s 1ms/step - loss: 3671026.5000\n",
      "Epoch 275/500\n",
      "50/50 [==============================] - 0s 952us/step - loss: 3660009.5000\n",
      "Epoch 276/500\n",
      "50/50 [==============================] - 0s 937us/step - loss: 3651190.0000\n",
      "Epoch 277/500\n",
      "50/50 [==============================] - 0s 1ms/step - loss: 3647146.0000\n",
      "Epoch 278/500\n"
     ]
    },
    {
     "name": "stdout",
     "output_type": "stream",
     "text": [
      "50/50 [==============================] - 0s 1ms/step - loss: 3623988.2500\n",
      "Epoch 279/500\n",
      "50/50 [==============================] - 0s 1ms/step - loss: 3605958.0000\n",
      "Epoch 280/500\n",
      "50/50 [==============================] - 0s 938us/step - loss: 3602926.7500\n",
      "Epoch 281/500\n",
      "50/50 [==============================] - 0s 957us/step - loss: 3581770.0000\n",
      "Epoch 282/500\n",
      "50/50 [==============================] - 0s 1ms/step - loss: 3569459.7500\n",
      "Epoch 283/500\n",
      "50/50 [==============================] - 0s 977us/step - loss: 3549630.0000\n",
      "Epoch 284/500\n",
      "50/50 [==============================] - 0s 997us/step - loss: 3534086.7500\n",
      "Epoch 285/500\n",
      "50/50 [==============================] - 0s 918us/step - loss: 3523294.5000\n",
      "Epoch 286/500\n",
      "50/50 [==============================] - 0s 977us/step - loss: 3501274.5000\n",
      "Epoch 287/500\n",
      "50/50 [==============================] - 0s 997us/step - loss: 3497663.0000\n",
      "Epoch 288/500\n",
      "50/50 [==============================] - 0s 1ms/step - loss: 3477165.5000\n",
      "Epoch 289/500\n",
      "50/50 [==============================] - 0s 1ms/step - loss: 3474366.7500\n",
      "Epoch 290/500\n",
      "50/50 [==============================] - 0s 1ms/step - loss: 3453890.2500\n",
      "Epoch 291/500\n",
      "50/50 [==============================] - 0s 966us/step - loss: 3470642.0000\n",
      "Epoch 292/500\n",
      "50/50 [==============================] - 0s 977us/step - loss: 3428593.2500\n",
      "Epoch 293/500\n",
      "50/50 [==============================] - 0s 938us/step - loss: 3404471.7500\n",
      "Epoch 294/500\n",
      "50/50 [==============================] - 0s 997us/step - loss: 3391677.7500\n",
      "Epoch 295/500\n",
      "50/50 [==============================] - 0s 1ms/step - loss: 3383577.5000\n",
      "Epoch 296/500\n",
      "50/50 [==============================] - 0s 1ms/step - loss: 3363701.0000\n",
      "Epoch 297/500\n",
      "50/50 [==============================] - 0s 878us/step - loss: 3352457.0000\n",
      "Epoch 298/500\n",
      "50/50 [==============================] - 0s 1ms/step - loss: 3331208.7500\n",
      "Epoch 299/500\n",
      "50/50 [==============================] - 0s 1ms/step - loss: 3316334.0000\n",
      "Epoch 300/500\n",
      "50/50 [==============================] - 0s 1ms/step - loss: 3304249.2500\n",
      "Epoch 301/500\n",
      "50/50 [==============================] - 0s 898us/step - loss: 3277523.0000\n",
      "Epoch 302/500\n",
      "50/50 [==============================] - 0s 878us/step - loss: 3289267.5000\n",
      "Epoch 303/500\n",
      "50/50 [==============================] - 0s 1ms/step - loss: 3251700.5000\n",
      "Epoch 304/500\n",
      "50/50 [==============================] - 0s 997us/step - loss: 3228016.2500\n",
      "Epoch 305/500\n",
      "50/50 [==============================] - 0s 957us/step - loss: 3238980.2500\n",
      "Epoch 306/500\n",
      "50/50 [==============================] - 0s 858us/step - loss: 3199567.0000\n",
      "Epoch 307/500\n",
      "50/50 [==============================] - 0s 1ms/step - loss: 3192064.7500\n",
      "Epoch 308/500\n",
      "50/50 [==============================] - 0s 918us/step - loss: 3170263.0000\n",
      "Epoch 309/500\n",
      "50/50 [==============================] - 0s 918us/step - loss: 3152870.0000\n",
      "Epoch 310/500\n",
      "50/50 [==============================] - 0s 918us/step - loss: 3139932.2500\n",
      "Epoch 311/500\n",
      "50/50 [==============================] - 0s 1ms/step - loss: 3128403.5000\n",
      "Epoch 312/500\n",
      "50/50 [==============================] - 0s 977us/step - loss: 3102076.2500\n",
      "Epoch 313/500\n",
      "50/50 [==============================] - 0s 997us/step - loss: 3097272.2500\n",
      "Epoch 314/500\n",
      "50/50 [==============================] - 0s 1ms/step - loss: 3075150.7500\n",
      "Epoch 315/500\n",
      "50/50 [==============================] - 0s 1ms/step - loss: 3053853.5000\n",
      "Epoch 316/500\n",
      "50/50 [==============================] - 0s 1ms/step - loss: 3034702.0000\n",
      "Epoch 317/500\n",
      "50/50 [==============================] - 0s 1ms/step - loss: 3018469.5000\n",
      "Epoch 318/500\n",
      "50/50 [==============================] - 0s 2ms/step - loss: 2997409.5000\n",
      "Epoch 319/500\n",
      "50/50 [==============================] - 0s 1ms/step - loss: 2987077.5000\n",
      "Epoch 320/500\n",
      "50/50 [==============================] - 0s 997us/step - loss: 2975258.2500\n",
      "Epoch 321/500\n",
      "50/50 [==============================] - 0s 1ms/step - loss: 2947590.5000\n",
      "Epoch 322/500\n",
      "50/50 [==============================] - 0s 918us/step - loss: 2933283.7500\n",
      "Epoch 323/500\n",
      "50/50 [==============================] - 0s 997us/step - loss: 2913417.2500\n",
      "Epoch 324/500\n",
      "50/50 [==============================] - 0s 997us/step - loss: 2899323.0000\n",
      "Epoch 325/500\n",
      "50/50 [==============================] - 0s 997us/step - loss: 2876103.2500\n",
      "Epoch 326/500\n",
      "50/50 [==============================] - 0s 967us/step - loss: 2857771.0000\n",
      "Epoch 327/500\n",
      "50/50 [==============================] - 0s 997us/step - loss: 2843383.7500\n",
      "Epoch 328/500\n",
      "50/50 [==============================] - 0s 1ms/step - loss: 2845919.7500\n",
      "Epoch 329/500\n",
      "50/50 [==============================] - 0s 977us/step - loss: 2819313.2500\n",
      "Epoch 330/500\n",
      "50/50 [==============================] - 0s 963us/step - loss: 2791638.0000\n",
      "Epoch 331/500\n",
      "50/50 [==============================] - 0s 1ms/step - loss: 2767910.5000\n",
      "Epoch 332/500\n",
      "50/50 [==============================] - 0s 1ms/step - loss: 2753772.5000\n",
      "Epoch 333/500\n",
      "50/50 [==============================] - 0s 1ms/step - loss: 2723202.2500\n",
      "Epoch 334/500\n",
      "50/50 [==============================] - 0s 1ms/step - loss: 2716560.7500\n",
      "Epoch 335/500\n",
      "50/50 [==============================] - 0s 1ms/step - loss: 2709756.5000\n",
      "Epoch 336/500\n",
      "50/50 [==============================] - 0s 2ms/step - loss: 2687596.2500\n",
      "Epoch 337/500\n",
      "50/50 [==============================] - 0s 918us/step - loss: 2667362.2500\n",
      "Epoch 338/500\n",
      "50/50 [==============================] - 0s 1ms/step - loss: 2642286.0000\n",
      "Epoch 339/500\n",
      "50/50 [==============================] - 0s 1ms/step - loss: 2618787.5000\n",
      "Epoch 340/500\n",
      "50/50 [==============================] - 0s 1ms/step - loss: 2604192.2500\n",
      "Epoch 341/500\n",
      "50/50 [==============================] - 0s 997us/step - loss: 2585332.7500\n",
      "Epoch 342/500\n",
      "50/50 [==============================] - 0s 1ms/step - loss: 2581293.0000\n",
      "Epoch 343/500\n",
      "50/50 [==============================] - 0s 977us/step - loss: 2545766.5000\n",
      "Epoch 344/500\n",
      "50/50 [==============================] - 0s 998us/step - loss: 2530933.7500\n",
      "Epoch 345/500\n",
      "50/50 [==============================] - 0s 1ms/step - loss: 2497922.2500\n",
      "Epoch 346/500\n",
      "50/50 [==============================] - 0s 997us/step - loss: 2482780.2500\n",
      "Epoch 347/500\n",
      "50/50 [==============================] - 0s 1ms/step - loss: 2468989.2500\n",
      "Epoch 348/500\n",
      "50/50 [==============================] - 0s 1ms/step - loss: 2447473.2500\n",
      "Epoch 349/500\n",
      "50/50 [==============================] - 0s 1ms/step - loss: 2450256.5000\n",
      "Epoch 350/500\n",
      "50/50 [==============================] - 0s 977us/step - loss: 2418637.0000\n",
      "Epoch 351/500\n",
      "50/50 [==============================] - 0s 1ms/step - loss: 2392400.7500\n",
      "Epoch 352/500\n",
      "50/50 [==============================] - 0s 977us/step - loss: 2368955.5000\n",
      "Epoch 353/500\n",
      "50/50 [==============================] - 0s 1ms/step - loss: 2378423.7500\n",
      "Epoch 354/500\n",
      "50/50 [==============================] - 0s 1ms/step - loss: 2335563.7500\n",
      "Epoch 355/500\n",
      "50/50 [==============================] - 0s 1ms/step - loss: 2332752.7500\n",
      "Epoch 356/500\n",
      "50/50 [==============================] - 0s 957us/step - loss: 2308008.2500\n",
      "Epoch 357/500\n",
      "50/50 [==============================] - 0s 1ms/step - loss: 2299364.0000\n",
      "Epoch 358/500\n",
      "50/50 [==============================] - 0s 1ms/step - loss: 2272195.7500\n",
      "Epoch 359/500\n",
      "50/50 [==============================] - 0s 1ms/step - loss: 2254143.7500\n",
      "Epoch 360/500\n",
      "50/50 [==============================] - 0s 1ms/step - loss: 2234411.2500\n",
      "Epoch 361/500\n",
      "50/50 [==============================] - 0s 1ms/step - loss: 2216788.0000\n",
      "Epoch 362/500\n",
      "50/50 [==============================] - 0s 997us/step - loss: 2217770.2500\n",
      "Epoch 363/500\n",
      "50/50 [==============================] - 0s 1ms/step - loss: 2208285.5000\n",
      "Epoch 364/500\n",
      "50/50 [==============================] - 0s 997us/step - loss: 2158211.7500\n",
      "Epoch 365/500\n",
      "50/50 [==============================] - 0s 997us/step - loss: 2134325.0000\n",
      "Epoch 366/500\n",
      "50/50 [==============================] - 0s 957us/step - loss: 2122406.2500\n",
      "Epoch 367/500\n",
      "50/50 [==============================] - 0s 1ms/step - loss: 2105659.5000\n",
      "Epoch 368/500\n",
      "50/50 [==============================] - 0s 938us/step - loss: 2096754.2500\n",
      "Epoch 369/500\n",
      "50/50 [==============================] - 0s 1ms/step - loss: 2093067.5000\n",
      "Epoch 370/500\n"
     ]
    },
    {
     "name": "stdout",
     "output_type": "stream",
     "text": [
      "50/50 [==============================] - 0s 937us/step - loss: 2077841.5000\n",
      "Epoch 371/500\n",
      "50/50 [==============================] - 0s 1ms/step - loss: 2047380.7500\n",
      "Epoch 372/500\n",
      "50/50 [==============================] - 0s 957us/step - loss: 2026138.3750\n",
      "Epoch 373/500\n",
      "50/50 [==============================] - 0s 1ms/step - loss: 2008419.3750\n",
      "Epoch 374/500\n",
      "50/50 [==============================] - 0s 997us/step - loss: 1996487.5000\n",
      "Epoch 375/500\n",
      "50/50 [==============================] - 0s 977us/step - loss: 1980993.1250\n",
      "Epoch 376/500\n",
      "50/50 [==============================] - 0s 1ms/step - loss: 1971396.1250\n",
      "Epoch 377/500\n",
      "50/50 [==============================] - 0s 999us/step - loss: 1955476.1250\n",
      "Epoch 378/500\n",
      "50/50 [==============================] - 0s 977us/step - loss: 1943903.3750\n",
      "Epoch 379/500\n",
      "50/50 [==============================] - 0s 938us/step - loss: 1948875.3750\n",
      "Epoch 380/500\n",
      "50/50 [==============================] - 0s 1ms/step - loss: 1902353.1250\n",
      "Epoch 381/500\n",
      "50/50 [==============================] - 0s 978us/step - loss: 1888759.5000\n",
      "Epoch 382/500\n",
      "50/50 [==============================] - 0s 1ms/step - loss: 1876188.1250\n",
      "Epoch 383/500\n",
      "50/50 [==============================] - 0s 949us/step - loss: 1861450.2500\n",
      "Epoch 384/500\n",
      "50/50 [==============================] - 0s 1ms/step - loss: 1863110.8750\n",
      "Epoch 385/500\n",
      "50/50 [==============================] - 0s 941us/step - loss: 1859589.2500\n",
      "Epoch 386/500\n",
      "50/50 [==============================] - 0s 1ms/step - loss: 1827320.6250\n",
      "Epoch 387/500\n",
      "50/50 [==============================] - 0s 977us/step - loss: 1807179.0000\n",
      "Epoch 388/500\n",
      "50/50 [==============================] - 0s 1ms/step - loss: 1790412.7500\n",
      "Epoch 389/500\n",
      "50/50 [==============================] - 0s 918us/step - loss: 1779469.7500\n",
      "Epoch 390/500\n",
      "50/50 [==============================] - 0s 957us/step - loss: 1771716.1250\n",
      "Epoch 391/500\n",
      "50/50 [==============================] - 0s 938us/step - loss: 1754486.5000\n",
      "Epoch 392/500\n",
      "50/50 [==============================] - 0s 1ms/step - loss: 1749708.6250\n",
      "Epoch 393/500\n",
      "50/50 [==============================] - 0s 1ms/step - loss: 1746028.0000\n",
      "Epoch 394/500\n",
      "50/50 [==============================] - 0s 997us/step - loss: 1724746.7500\n",
      "Epoch 395/500\n",
      "50/50 [==============================] - 0s 1ms/step - loss: 1713033.1250\n",
      "Epoch 396/500\n",
      "50/50 [==============================] - 0s 931us/step - loss: 1704076.7500\n",
      "Epoch 397/500\n",
      "50/50 [==============================] - 0s 1ms/step - loss: 1691945.1250\n",
      "Epoch 398/500\n",
      "50/50 [==============================] - 0s 1ms/step - loss: 1687282.1250\n",
      "Epoch 399/500\n",
      "50/50 [==============================] - 0s 1ms/step - loss: 1661378.7500\n",
      "Epoch 400/500\n",
      "50/50 [==============================] - 0s 957us/step - loss: 1664229.6250\n",
      "Epoch 401/500\n",
      "50/50 [==============================] - 0s 1ms/step - loss: 1646342.7500\n",
      "Epoch 402/500\n",
      "50/50 [==============================] - 0s 1ms/step - loss: 1635732.0000\n",
      "Epoch 403/500\n",
      "50/50 [==============================] - 0s 1ms/step - loss: 1626519.2500\n",
      "Epoch 404/500\n",
      "50/50 [==============================] - 0s 928us/step - loss: 1606561.1250\n",
      "Epoch 405/500\n",
      "50/50 [==============================] - 0s 1ms/step - loss: 1610062.8750\n",
      "Epoch 406/500\n",
      "50/50 [==============================] - 0s 975us/step - loss: 1592809.7500\n",
      "Epoch 407/500\n",
      "50/50 [==============================] - 0s 1ms/step - loss: 1583178.7500\n",
      "Epoch 408/500\n",
      "50/50 [==============================] - 0s 984us/step - loss: 1565606.2500\n",
      "Epoch 409/500\n",
      "50/50 [==============================] - 0s 1ms/step - loss: 1557818.7500\n",
      "Epoch 410/500\n",
      "50/50 [==============================] - 0s 1ms/step - loss: 1555313.0000\n",
      "Epoch 411/500\n",
      "50/50 [==============================] - 0s 918us/step - loss: 1550825.1250\n",
      "Epoch 412/500\n",
      "50/50 [==============================] - 0s 957us/step - loss: 1537813.8750\n",
      "Epoch 413/500\n",
      "50/50 [==============================] - 0s 1000us/step - loss: 1537575.3750\n",
      "Epoch 414/500\n",
      "50/50 [==============================] - 0s 997us/step - loss: 1516136.5000\n",
      "Epoch 415/500\n",
      "50/50 [==============================] - 0s 878us/step - loss: 1511006.8750\n",
      "Epoch 416/500\n",
      "50/50 [==============================] - 0s 1ms/step - loss: 1499867.5000\n",
      "Epoch 417/500\n",
      "50/50 [==============================] - 0s 1ms/step - loss: 1500673.6250\n",
      "Epoch 418/500\n",
      "50/50 [==============================] - 0s 1ms/step - loss: 1474557.0000\n",
      "Epoch 419/500\n",
      "50/50 [==============================] - 0s 977us/step - loss: 1473263.2500\n",
      "Epoch 420/500\n",
      "50/50 [==============================] - 0s 1ms/step - loss: 1474306.7500\n",
      "Epoch 421/500\n",
      "50/50 [==============================] - 0s 1ms/step - loss: 1453693.6250\n",
      "Epoch 422/500\n",
      "50/50 [==============================] - 0s 1ms/step - loss: 1447943.2500\n",
      "Epoch 423/500\n",
      "50/50 [==============================] - 0s 1ms/step - loss: 1439963.3750\n",
      "Epoch 424/500\n",
      "50/50 [==============================] - 0s 1ms/step - loss: 1433058.7500\n",
      "Epoch 425/500\n",
      "50/50 [==============================] - 0s 898us/step - loss: 1422543.2500\n",
      "Epoch 426/500\n",
      "50/50 [==============================] - 0s 937us/step - loss: 1425237.7500\n",
      "Epoch 427/500\n",
      "50/50 [==============================] - 0s 977us/step - loss: 1413273.0000\n",
      "Epoch 428/500\n",
      "50/50 [==============================] - 0s 1ms/step - loss: 1402733.0000\n",
      "Epoch 429/500\n",
      "50/50 [==============================] - 0s 977us/step - loss: 1416155.6250\n",
      "Epoch 430/500\n",
      "50/50 [==============================] - 0s 1ms/step - loss: 1393175.3750\n",
      "Epoch 431/500\n",
      "50/50 [==============================] - 0s 1ms/step - loss: 1390443.6250\n",
      "Epoch 432/500\n",
      "50/50 [==============================] - 0s 1ms/step - loss: 1390358.3750\n",
      "Epoch 433/500\n",
      "50/50 [==============================] - 0s 997us/step - loss: 1372464.3750\n",
      "Epoch 434/500\n",
      "50/50 [==============================] - 0s 957us/step - loss: 1358769.0000\n",
      "Epoch 435/500\n",
      "50/50 [==============================] - 0s 1ms/step - loss: 1365748.3750\n",
      "Epoch 436/500\n",
      "50/50 [==============================] - 0s 997us/step - loss: 1353490.7500\n",
      "Epoch 437/500\n",
      "50/50 [==============================] - 0s 1ms/step - loss: 1352801.5000\n",
      "Epoch 438/500\n",
      "50/50 [==============================] - 0s 977us/step - loss: 1347086.5000\n",
      "Epoch 439/500\n",
      "50/50 [==============================] - 0s 997us/step - loss: 1336887.7500\n",
      "Epoch 440/500\n",
      "50/50 [==============================] - 0s 1ms/step - loss: 1366047.3750\n",
      "Epoch 441/500\n",
      "50/50 [==============================] - 0s 1ms/step - loss: 1337639.1250\n",
      "Epoch 442/500\n",
      "50/50 [==============================] - 0s 918us/step - loss: 1337463.0000\n",
      "Epoch 443/500\n",
      "50/50 [==============================] - 0s 1ms/step - loss: 1320668.3750\n",
      "Epoch 444/500\n",
      "50/50 [==============================] - 0s 937us/step - loss: 1335897.1250\n",
      "Epoch 445/500\n",
      "50/50 [==============================] - 0s 1ms/step - loss: 1308641.0000\n",
      "Epoch 446/500\n",
      "50/50 [==============================] - 0s 1ms/step - loss: 1325249.0000\n",
      "Epoch 447/500\n",
      "50/50 [==============================] - ETA: 0s - loss: 1333476.625 - 0s 1ms/step - loss: 1308536.6250\n",
      "Epoch 448/500\n",
      "50/50 [==============================] - 0s 1ms/step - loss: 1347859.0000\n",
      "Epoch 449/500\n",
      "50/50 [==============================] - 0s 964us/step - loss: 1306034.8750\n",
      "Epoch 450/500\n",
      "50/50 [==============================] - 0s 1ms/step - loss: 1286198.0000\n",
      "Epoch 451/500\n",
      "50/50 [==============================] - 0s 1ms/step - loss: 1265572.7500\n",
      "Epoch 452/500\n",
      "50/50 [==============================] - 0s 1000us/step - loss: 1261182.5000\n",
      "Epoch 453/500\n",
      "50/50 [==============================] - 0s 1ms/step - loss: 1272984.5000\n",
      "Epoch 454/500\n",
      "50/50 [==============================] - 0s 878us/step - loss: 1264763.6250\n",
      "Epoch 455/500\n",
      "50/50 [==============================] - 0s 1ms/step - loss: 1257276.6250\n",
      "Epoch 456/500\n",
      "50/50 [==============================] - 0s 955us/step - loss: 1259115.8750\n",
      "Epoch 457/500\n",
      "50/50 [==============================] - 0s 1ms/step - loss: 1245408.7500\n",
      "Epoch 458/500\n",
      "50/50 [==============================] - 0s 937us/step - loss: 1245803.8750\n",
      "Epoch 459/500\n",
      "50/50 [==============================] - 0s 1ms/step - loss: 1244909.5000\n",
      "Epoch 460/500\n",
      "50/50 [==============================] - 0s 977us/step - loss: 1263928.7500\n",
      "Epoch 461/500\n"
     ]
    },
    {
     "name": "stdout",
     "output_type": "stream",
     "text": [
      "50/50 [==============================] - 0s 1ms/step - loss: 1230039.0000\n",
      "Epoch 462/500\n",
      "50/50 [==============================] - 0s 1ms/step - loss: 1223563.5000\n",
      "Epoch 463/500\n",
      "50/50 [==============================] - 0s 944us/step - loss: 1219019.6250\n",
      "Epoch 464/500\n",
      "50/50 [==============================] - 0s 1ms/step - loss: 1225577.8750\n",
      "Epoch 465/500\n",
      "50/50 [==============================] - 0s 997us/step - loss: 1220786.0000\n",
      "Epoch 466/500\n",
      "50/50 [==============================] - 0s 1ms/step - loss: 1219256.5000\n",
      "Epoch 467/500\n",
      "50/50 [==============================] - 0s 1ms/step - loss: 1248652.3750\n",
      "Epoch 468/500\n",
      "50/50 [==============================] - 0s 1ms/step - loss: 1211341.6250\n",
      "Epoch 469/500\n",
      "50/50 [==============================] - 0s 1ms/step - loss: 1218222.3750\n",
      "Epoch 470/500\n",
      "50/50 [==============================] - 0s 1ms/step - loss: 1221041.0000\n",
      "Epoch 471/500\n",
      "50/50 [==============================] - 0s 997us/step - loss: 1198338.5000\n",
      "Epoch 472/500\n",
      "50/50 [==============================] - 0s 997us/step - loss: 1176692.1250\n",
      "Epoch 473/500\n",
      "50/50 [==============================] - 0s 997us/step - loss: 1197758.1250\n",
      "Epoch 474/500\n",
      "50/50 [==============================] - 0s 997us/step - loss: 1172392.1250\n",
      "Epoch 475/500\n",
      "50/50 [==============================] - 0s 918us/step - loss: 1189093.6250\n",
      "Epoch 476/500\n",
      "50/50 [==============================] - 0s 957us/step - loss: 1189357.2500\n",
      "Epoch 477/500\n",
      "50/50 [==============================] - 0s 998us/step - loss: 1170248.5000\n",
      "Epoch 478/500\n",
      "50/50 [==============================] - 0s 1ms/step - loss: 1159686.1250\n",
      "Epoch 479/500\n",
      "50/50 [==============================] - 0s 898us/step - loss: 1153187.5000\n",
      "Epoch 480/500\n",
      "50/50 [==============================] - 0s 957us/step - loss: 1163950.7500\n",
      "Epoch 481/500\n",
      "50/50 [==============================] - 0s 898us/step - loss: 1175310.3750\n",
      "Epoch 482/500\n",
      "50/50 [==============================] - 0s 977us/step - loss: 1161091.6250\n",
      "Epoch 483/500\n",
      "50/50 [==============================] - 0s 978us/step - loss: 1146623.2500\n",
      "Epoch 484/500\n",
      "50/50 [==============================] - 0s 977us/step - loss: 1151324.1250\n",
      "Epoch 485/500\n",
      "50/50 [==============================] - 0s 957us/step - loss: 1151414.7500\n",
      "Epoch 486/500\n",
      "50/50 [==============================] - 0s 919us/step - loss: 1135371.7500\n",
      "Epoch 487/500\n",
      "50/50 [==============================] - 0s 1ms/step - loss: 1131574.0000\n",
      "Epoch 488/500\n",
      "50/50 [==============================] - 0s 921us/step - loss: 1136214.1250\n",
      "Epoch 489/500\n",
      "50/50 [==============================] - 0s 977us/step - loss: 1131284.1250\n",
      "Epoch 490/500\n",
      "50/50 [==============================] - 0s 997us/step - loss: 1130197.5000\n",
      "Epoch 491/500\n",
      "50/50 [==============================] - 0s 918us/step - loss: 1116083.2500\n",
      "Epoch 492/500\n",
      "50/50 [==============================] - 0s 997us/step - loss: 1130349.2500\n",
      "Epoch 493/500\n",
      "50/50 [==============================] - 0s 898us/step - loss: 1118917.8750\n",
      "Epoch 494/500\n",
      "50/50 [==============================] - 0s 1ms/step - loss: 1116429.0000\n",
      "Epoch 495/500\n",
      "50/50 [==============================] - 0s 1ms/step - loss: 1106829.6250\n",
      "Epoch 496/500\n",
      "50/50 [==============================] - 0s 1ms/step - loss: 1151066.1250\n",
      "Epoch 497/500\n",
      "50/50 [==============================] - 0s 993us/step - loss: 1120548.1250\n",
      "Epoch 498/500\n",
      "50/50 [==============================] - 0s 898us/step - loss: 1099092.6250\n",
      "Epoch 499/500\n",
      "50/50 [==============================] - 0s 937us/step - loss: 1105076.0000\n",
      "Epoch 500/500\n",
      "50/50 [==============================] - 0s 1ms/step - loss: 1118482.7500\n"
     ]
    },
    {
     "data": {
      "text/plain": [
       "<tensorflow.python.keras.callbacks.History at 0x211eb4217b8>"
      ]
     },
     "execution_count": 62,
     "metadata": {},
     "output_type": "execute_result"
    }
   ],
   "source": [
    "model.fit(X_train, Y_train, epochs=500)"
   ]
  },
  {
   "cell_type": "code",
   "execution_count": 63,
   "metadata": {},
   "outputs": [
    {
     "name": "stdout",
     "output_type": "stream",
     "text": [
      "WARNING:tensorflow:Layer dense is casting an input tensor from dtype float64 to the layer's dtype of float32, which is new behavior in TensorFlow 2.  The layer has dtype float32 because it's dtype defaults to floatx.\n",
      "\n",
      "If you intended to run this layer in float32, you can safely ignore this warning. If in doubt, this warning is likely only an issue if you are porting a TensorFlow 1.X model to TensorFlow 2.\n",
      "\n",
      "To change all layers to have dtype float64 by default, call `tf.keras.backend.set_floatx('float64')`. To change just this layer, pass dtype='float64' to the layer constructor. If you are the author of this layer, you can disable autocasting by passing autocast=False to the base Layer constructor.\n",
      "\n"
     ]
    }
   ],
   "source": [
    "preds = model.predict(x_test)"
   ]
  },
  {
   "cell_type": "code",
   "execution_count": 64,
   "metadata": {},
   "outputs": [
    {
     "name": "stdout",
     "output_type": "stream",
     "text": [
      "7688.163514434418\n"
     ]
    }
   ],
   "source": [
    "# Results\n",
    "rms = np.sqrt(np.mean(np.power((np.array(y_test)-np.array(preds)),2)))\n",
    "print(rms)"
   ]
  },
  {
   "cell_type": "code",
   "execution_count": 65,
   "metadata": {},
   "outputs": [
    {
     "name": "stderr",
     "output_type": "stream",
     "text": [
      "D:\\ProgramData\\Anaconda3\\envs\\PythonAdv\\lib\\site-packages\\ipykernel_launcher.py:1: SettingWithCopyWarning: \n",
      "A value is trying to be set on a copy of a slice from a DataFrame.\n",
      "Try using .loc[row_indexer,col_indexer] = value instead\n",
      "\n",
      "See the caveats in the documentation: https://pandas.pydata.org/pandas-docs/stable/user_guide/indexing.html#returning-a-view-versus-a-copy\n",
      "  \"\"\"Entry point for launching an IPython kernel.\n",
      "D:\\ProgramData\\Anaconda3\\envs\\PythonAdv\\lib\\site-packages\\ipykernel_launcher.py:2: SettingWithCopyWarning: \n",
      "A value is trying to be set on a copy of a slice from a DataFrame.\n",
      "Try using .loc[row_indexer,col_indexer] = value instead\n",
      "\n",
      "See the caveats in the documentation: https://pandas.pydata.org/pandas-docs/stable/user_guide/indexing.html#returning-a-view-versus-a-copy\n",
      "  \n"
     ]
    },
    {
     "data": {
      "text/plain": [
       "[<matplotlib.lines.Line2D at 0x211ecdec208>,\n",
       " <matplotlib.lines.Line2D at 0x211ecdec518>]"
      ]
     },
     "execution_count": 65,
     "metadata": {},
     "output_type": "execute_result"
    },
    {
     "data": {
      "image/png": "[encoded data removed]",
      "text/plain": [
       "<Figure size 1440x720 with 1 Axes>"
      ]
     },
     "metadata": {},
     "output_type": "display_data"
    }
   ],
   "source": [
    "test['Predictions'] = 0\n",
    "test['Predictions'] = preds\n",
    "\n",
    "plt.plot(train['Adj Close'])\n",
    "plt.plot(test[['Adj Close', 'Predictions']])"
   ]
  },
  {
   "cell_type": "code",
   "execution_count": null,
   "metadata": {},
   "outputs": [],
   "source": []
  }
 ],
 "metadata": {
  "kernelspec": {
   "display_name": "PythonAdv",
   "language": "python",
   "name": "pythonadv"
  },
  "language_info": {
   "codemirror_mode": {
    "name": "ipython",
    "version": 3
   },
   "file_extension": ".py",
   "mimetype": "text/x-python",
   "name": "python",
   "nbconvert_exporter": "python",
   "pygments_lexer": "ipython3",
   "version": "3.6.10"
  }
 },
 "nbformat": 4,
 "nbformat_minor": 4
}
